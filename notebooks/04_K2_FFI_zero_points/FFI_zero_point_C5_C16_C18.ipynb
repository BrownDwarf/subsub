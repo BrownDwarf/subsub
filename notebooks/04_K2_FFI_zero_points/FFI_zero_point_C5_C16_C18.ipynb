{
 "cells": [
  {
   "cell_type": "markdown",
   "metadata": {},
   "source": [
    "# FFI analysis -- for zero points\n",
    "\n",
    "November 2019\n",
    "\n",
    "The goal of this notebook is to get zero points for the M67 K2 campaigns, so we can register their relative fluxes.  We will use the Full Frame Images (FFIs)."
   ]
  },
  {
   "cell_type": "code",
   "execution_count": 1,
   "metadata": {},
   "outputs": [],
   "source": [
    "import numpy as np\n",
    "import sep\n",
    "import pandas as pd\n",
    "import fitsio"
   ]
  },
  {
   "cell_type": "code",
   "execution_count": 2,
   "metadata": {},
   "outputs": [],
   "source": [
    "import matplotlib.pyplot as plt\n",
    "from matplotlib import rcParams\n",
    "%matplotlib inline\n",
    "rcParams['figure.figsize'] = [10., 8.]"
   ]
  },
  {
   "cell_type": "code",
   "execution_count": 3,
   "metadata": {},
   "outputs": [
    {
     "name": "stderr",
     "output_type": "stream",
     "text": [
      "WARNING: AstropyDeprecationWarning: astropy.extern.six will be removed in 4.0, use the six module directly if it is still needed [astropy.extern.six]\n"
     ]
    }
   ],
   "source": [
    "from astropy.wcs import WCS\n",
    "from astroquery.vizier import Vizier\n",
    "from astropy.coordinates import SkyCoord\n",
    "from astropy import units as u\n",
    "Vizier.ROW_LIMIT = 50000\n",
    "\n",
    "from matplotlib.patches import Ellipse"
   ]
  },
  {
   "cell_type": "code",
   "execution_count": 4,
   "metadata": {},
   "outputs": [],
   "source": [
    "import sys\n",
    "import os\n",
    "sys.path.append(os.path.abspath(\"../code/\"))\n",
    "import ffi_tools"
   ]
  },
  {
   "cell_type": "markdown",
   "metadata": {},
   "source": [
    "#### Setup"
   ]
  },
  {
   "cell_type": "code",
   "execution_count": 5,
   "metadata": {},
   "outputs": [],
   "source": [
    "c5_ffi_fn = '/Volumes/Truro/ffi/ktwo2015127093352-c05_ffi-cal.fits'\n",
    "c16_ffi_fn = '/Volumes/Truro/ffi/ktwo2017344214411-c16_ffi-cal.fits'\n",
    "c18_ffi_fn = '/Volumes/Truro/ffi/ktwo2018143080022-c18_ffi-cal.fits'"
   ]
  },
  {
   "cell_type": "code",
   "execution_count": 6,
   "metadata": {},
   "outputs": [],
   "source": [
    "fn_dict = {5: c5_ffi_fn,\n",
    "           16: c16_ffi_fn,\n",
    "           18: c18_ffi_fn}"
   ]
  },
  {
   "cell_type": "code",
   "execution_count": 7,
   "metadata": {},
   "outputs": [],
   "source": [
    "ffi_ext_dict = {18:13, 16:52, 5:13}"
   ]
  },
  {
   "cell_type": "markdown",
   "metadata": {},
   "source": [
    "#### Processing"
   ]
  },
  {
   "cell_type": "code",
   "execution_count": 8,
   "metadata": {},
   "outputs": [],
   "source": [
    "CAMPAIGN = 18"
   ]
  },
  {
   "cell_type": "code",
   "execution_count": 9,
   "metadata": {},
   "outputs": [],
   "source": [
    "data, hdr = fitsio.read(fn_dict[CAMPAIGN], ext=ffi_ext_dict[CAMPAIGN], header=True)"
   ]
  },
  {
   "cell_type": "code",
   "execution_count": 10,
   "metadata": {},
   "outputs": [],
   "source": [
    "data = ffi_tools.preprocess_dFFI(data) \n",
    "data_sub, bkg = ffi_tools.background_subtract(data, return_bkg=True)\n",
    "objects = sep.extract(data_sub, 8.0, filter_kernel=None,  err=bkg.globalrms)"
   ]
  },
  {
   "cell_type": "code",
   "execution_count": 11,
   "metadata": {},
   "outputs": [],
   "source": [
    "angle_degrees = objects['theta'] * 180. / np.pi\n",
    "twisty = (angle_degrees > -60) & (angle_degrees < 40) & ( objects['a']/objects['b'] > 1.3)\n",
    "poor_fits = (objects['a'] > 2.0) | (objects['flux'] > 1e6) | (objects['flag'] > 0)"
   ]
  },
  {
   "cell_type": "code",
   "execution_count": 12,
   "metadata": {},
   "outputs": [],
   "source": [
    "df = pd.DataFrame(objects[~poor_fits & ~twisty])"
   ]
  },
  {
   "cell_type": "code",
   "execution_count": 13,
   "metadata": {},
   "outputs": [],
   "source": [
    "wcs_hdr = WCS(header=hdr)"
   ]
  },
  {
   "cell_type": "code",
   "execution_count": 14,
   "metadata": {},
   "outputs": [],
   "source": [
    "xy_in = np.vstack((df.x.values+12, df.y.values+19)).T"
   ]
  },
  {
   "cell_type": "code",
   "execution_count": 15,
   "metadata": {},
   "outputs": [],
   "source": [
    "ra_decs = wcs_hdr.all_pix2world(xy_in, 0)\n",
    "df['ra'], df['dec'] = ra_decs[:,0], ra_decs[:,1]"
   ]
  },
  {
   "cell_type": "markdown",
   "metadata": {},
   "source": [
    "### Cross match with Gaia"
   ]
  },
  {
   "cell_type": "markdown",
   "metadata": {},
   "source": [
    "It might be helpful to compare the Gaia fluxes as an external calibration source."
   ]
  },
  {
   "cell_type": "code",
   "execution_count": 16,
   "metadata": {},
   "outputs": [],
   "source": [
    "c1 = SkyCoord(df['ra'].mean(), df['dec'].mean(), unit=(u.deg, u.deg))"
   ]
  },
  {
   "cell_type": "markdown",
   "metadata": {},
   "source": [
    "Query Gaia DR2 programmatically."
   ]
  },
  {
   "cell_type": "code",
   "execution_count": 17,
   "metadata": {},
   "outputs": [],
   "source": [
    "result = Vizier.query_region(c1, catalog=[\"I/345/gaia2\"], radius=3000.0*u.arcsec)[\"I/345/gaia2\"]"
   ]
  },
  {
   "cell_type": "code",
   "execution_count": 18,
   "metadata": {},
   "outputs": [],
   "source": [
    "bright_mask = (result['Gmag'] < 20.0).data\n",
    "result = result[bright_mask]\n",
    "radecs_gaia = np.vstack([result['RA_ICRS'].data.data, result['DE_ICRS'].data.data]).T"
   ]
  },
  {
   "cell_type": "code",
   "execution_count": 19,
   "metadata": {},
   "outputs": [],
   "source": [
    "df_gaia = result.to_pandas()"
   ]
  },
  {
   "cell_type": "markdown",
   "metadata": {},
   "source": [
    "Do the cross matching."
   ]
  },
  {
   "cell_type": "code",
   "execution_count": 20,
   "metadata": {},
   "outputs": [],
   "source": [
    "c = SkyCoord(ra=ra_decs[:,0]*u.degree, dec=ra_decs[:,1]*u.degree)\n",
    "catalog = SkyCoord(ra=radecs_gaia[:, 0]*u.degree, dec=radecs_gaia[:, 1]*u.degree)\n",
    "idx, d2d, d3d = c.match_to_catalog_sky(catalog)"
   ]
  },
  {
   "cell_type": "code",
   "execution_count": 21,
   "metadata": {},
   "outputs": [],
   "source": [
    "df['idx'] = idx\n",
    "df['d2d'] = d2d.to(u.arcsecond).value"
   ]
  },
  {
   "cell_type": "code",
   "execution_count": 22,
   "metadata": {},
   "outputs": [],
   "source": [
    "df_merge = pd.merge(df, df_gaia, how='left', left_on='idx', right_index=True)"
   ]
  },
  {
   "cell_type": "markdown",
   "metadata": {},
   "source": [
    "Eliminate bad matches separated by more than 5 arcseconds."
   ]
  },
  {
   "cell_type": "code",
   "execution_count": 23,
   "metadata": {},
   "outputs": [],
   "source": [
    "df_merge = df_merge[df_merge.d2d<5]"
   ]
  },
  {
   "cell_type": "markdown",
   "metadata": {},
   "source": [
    "Save to a csv file."
   ]
  },
  {
   "cell_type": "code",
   "execution_count": 24,
   "metadata": {},
   "outputs": [],
   "source": [
    "keep_cols = ['npix', 'xmin', 'xmax', 'ymin', 'ymax', 'x', 'y',\n",
    "       'x2', 'y2', 'xy', 'a', 'b', 'theta', 'flux', 'peak',\n",
    "       'xpeak', 'ypeak', 'flag', 'ra', 'dec', 'd2d', 'RA_ICRS',\n",
    "       'e_RA_ICRS', 'DE_ICRS', 'e_DE_ICRS', 'Source', 'Plx', 'e_Plx', 'pmRA',\n",
    "       'e_pmRA', 'pmDE', 'e_pmDE', 'Dup', 'FG', 'e_FG', 'Gmag', 'e_Gmag',\n",
    "       'BP-RP', 'E_BP-RP_']"
   ]
  },
  {
   "cell_type": "code",
   "execution_count": 25,
   "metadata": {},
   "outputs": [],
   "source": [
    "df_merge[keep_cols].to_csv('../data/K2/FFI_calibration/FFI_C{:02d}_sep_Gaia.csv'.format(CAMPAIGN), index=False)"
   ]
  }
 ],
 "metadata": {
  "kernelspec": {
   "display_name": "Python 3",
   "language": "python",
   "name": "python3"
  },
  "language_info": {
   "codemirror_mode": {
    "name": "ipython",
    "version": 3
   },
   "file_extension": ".py",
   "mimetype": "text/x-python",
   "name": "python",
   "nbconvert_exporter": "python",
   "pygments_lexer": "ipython3",
   "version": "3.6.9"
  }
 },
 "nbformat": 4,
 "nbformat_minor": 1
}

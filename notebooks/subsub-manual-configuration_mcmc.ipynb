{
 "cells": [
  {
   "cell_type": "markdown",
   "metadata": {},
   "source": [
    "# V827 spot-checking"
   ]
  },
  {
   "cell_type": "code",
   "execution_count": null,
   "metadata": {
    "collapsed": true
   },
   "outputs": [],
   "source": [
    "#! cat /Users/obsidian/Desktop/defaults.py"
   ]
  },
  {
   "cell_type": "code",
   "execution_count": null,
   "metadata": {
    "collapsed": true
   },
   "outputs": [],
   "source": [
    "import pandas as pd\n",
    "import numpy as np\n",
    "import matplotlib.pyplot as plt\n",
    "%matplotlib inline\n",
    "%config InlineBackend.figure_format = 'retina'"
   ]
  },
  {
   "cell_type": "code",
   "execution_count": null,
   "metadata": {
    "collapsed": true
   },
   "outputs": [],
   "source": [
    "import pandas as pd"
   ]
  },
  {
   "cell_type": "code",
   "execution_count": null,
   "metadata": {
    "collapsed": true
   },
   "outputs": [],
   "source": [
    "df = pd.read_csv('../sf/m115/output/subsub_m115/run01/spec_config.csv')\n",
    "#df = pd.read_csv('../sf/V827Tau/m102/output/mix_emcee/run01/models_ff-05_50_95.csv')"
   ]
  },
  {
   "cell_type": "code",
   "execution_count": null,
   "metadata": {},
   "outputs": [],
   "source": [
    "df.head(2)"
   ]
  },
  {
   "cell_type": "code",
   "execution_count": null,
   "metadata": {},
   "outputs": [],
   "source": [
    "plt.figure(figsize=(10,6))\n",
    "plt.step(df.wl, df.data, label='data')\n",
    "scale = 1#df.data.median()/df.model_composite.median()\n",
    "plt.plot(df.wl, df.model_composite*scale, label='Composite')\n",
    "#plt.plot(df.wl, noised, label='Noised up')\n",
    "#plt.plot(df.wl, df.model_cool50, label='Starspot')\n",
    "#plt.plot(df.wl, df.model_hot50, label='Ambient')\n",
    "plt.legend(loc='best')"
   ]
  },
  {
   "cell_type": "code",
   "execution_count": null,
   "metadata": {},
   "outputs": [],
   "source": [
    "np.log10(scale)"
   ]
  },
  {
   "cell_type": "code",
   "execution_count": null,
   "metadata": {},
   "outputs": [],
   "source": [
    "CC = np.load('../sf/m115/output/subsub_m115/run01/CC.npy')\n",
    "\n",
    "noised = np.random.multivariate_normal(df.model_composite, CC)\n",
    "\n",
    "R_GP = df.model_composite-noised\n",
    "R_dat = df.model_composite-df.data\n",
    "\n",
    "plt.plot(df.wl, R_dat)\n",
    "plt.plot(df.wl, R_GP)"
   ]
  },
  {
   "cell_type": "code",
   "execution_count": null,
   "metadata": {
    "collapsed": true
   },
   "outputs": [],
   "source": [
    "def autocorr(x):\n",
    "    result = np.correlate(x, x, mode='full')\n",
    "    return result[result.size//2:]"
   ]
  },
  {
   "cell_type": "code",
   "execution_count": null,
   "metadata": {},
   "outputs": [],
   "source": [
    "plt.plot(autocorr(R_dat.values), label='Data - model mismatches')\n",
    "plt.plot(autocorr(R_GP.values), label = 'GP')\n",
    "plt.legend(loc='best')"
   ]
  },
  {
   "cell_type": "code",
   "execution_count": null,
   "metadata": {},
   "outputs": [],
   "source": [
    "plt.figure(figsize=(10,6))\n",
    "plt.step(df.wl, df.data, label='data')\n",
    "scale = 1.0 #df.data.median()/df.model_composite.median()\n",
    "plt.plot(df.wl, df.model_composite*scale, label='Composite')\n",
    "plt.plot(df.wl, noised, label='Noised up')\n",
    "plt.plot(df.wl, df.model_cool50, label='Starspot')\n",
    "plt.plot(df.wl, df.model_hot50, label='Ambient')\n",
    "plt.legend(loc='best')"
   ]
  },
  {
   "cell_type": "markdown",
   "metadata": {},
   "source": [
    "Need to adjust `logOmega`:"
   ]
  },
  {
   "cell_type": "code",
   "execution_count": null,
   "metadata": {},
   "outputs": [],
   "source": [
    "logOmega = -5.42\n",
    "logOmega2 = -5.20\n",
    "f = 10**logOmega2 / (10**logOmega2 + 10**logOmega)\n",
    "f"
   ]
  },
  {
   "cell_type": "markdown",
   "metadata": {},
   "source": [
    "What about the MCMC chains?"
   ]
  },
  {
   "cell_type": "code",
   "execution_count": null,
   "metadata": {
    "collapsed": true
   },
   "outputs": [],
   "source": [
    "ws = np.load(\"../sf/m115/output/subsub_m115/run01/temp_emcee_chain.npy\")"
   ]
  },
  {
   "cell_type": "code",
   "execution_count": null,
   "metadata": {
    "collapsed": true
   },
   "outputs": [],
   "source": [
    "max_obs = ws.any(axis=(0,2)).sum()"
   ]
  },
  {
   "cell_type": "code",
   "execution_count": null,
   "metadata": {},
   "outputs": [],
   "source": [
    "max_obs"
   ]
  },
  {
   "cell_type": "code",
   "execution_count": null,
   "metadata": {
    "collapsed": true
   },
   "outputs": [],
   "source": [
    "burned = ws[:, 0:max_obs,:]\n",
    "xs, ys, zs = burned.shape\n",
    "fc = burned.reshape(xs*ys, zs)\n",
    "nx, ny = fc.shape"
   ]
  },
  {
   "cell_type": "code",
   "execution_count": null,
   "metadata": {
    "collapsed": true
   },
   "outputs": [],
   "source": [
    "from matplotlib.ticker import MaxNLocator"
   ]
  },
  {
   "cell_type": "code",
   "execution_count": null,
   "metadata": {
    "collapsed": true
   },
   "outputs": [],
   "source": [
    "label = [r\"$T_{\\mathrm{eff}}$\", r\"$\\log{g}$\", '[Fe/H]',r\"$v_z$\", r\"$v\\sin{i}$\", r\"$\\log{\\Omega}$\", \n",
    "         r\"$T_{\\mathrm{eff}, 2}$\", r\"$\\log{\\Omega_2}$\",\n",
    "         r\"$c^1$\", r\"$c^2$\", r\"$c^3$\", r\"sigAmp\", r\"logAmp\", r\"$l$\"] "
   ]
  },
  {
   "cell_type": "code",
   "execution_count": null,
   "metadata": {},
   "outputs": [],
   "source": [
    "fig, axes = plt.subplots(14, 1, sharex=True, figsize=(8, 14))\n",
    "for i in range(0, 14, 1):\n",
    "    axes[i].plot(burned[:, :, i].T, color=\"k\", alpha=0.2)\n",
    "    axes[i].yaxis.set_major_locator(MaxNLocator(5))\n",
    "    axes[i].set_ylabel(label[i])\n",
    "\n",
    "axes[13].set_xlabel(\"step number\")\n",
    "fig.tight_layout(h_pad=0.0)"
   ]
  },
  {
   "cell_type": "markdown",
   "metadata": {
    "collapsed": true
   },
   "source": [
    "What do those final 200 samples look like in spectra?"
   ]
  },
  {
   "cell_type": "code",
   "execution_count": null,
   "metadata": {
    "collapsed": true
   },
   "outputs": [],
   "source": [
    "df = pd.read_csv('../sf/m115/output/subsub_m115/run01/models_ff-05_50_95.csv')"
   ]
  },
  {
   "cell_type": "code",
   "execution_count": null,
   "metadata": {},
   "outputs": [],
   "source": [
    "df.head()"
   ]
  },
  {
   "cell_type": "code",
   "execution_count": null,
   "metadata": {},
   "outputs": [],
   "source": [
    "CC = np.load('../sf/m115/output/subsub_m115/run01/CC.npy')\n",
    "\n",
    "noised = np.random.multivariate_normal(df.model_comp50, CC)\n",
    "\n",
    "R_GP = df.model_comp50-noised\n",
    "R_dat = df.model_comp50-df.data\n",
    "\n",
    "plt.plot(df.wl, R_dat)\n",
    "plt.plot(df.wl, R_GP)"
   ]
  },
  {
   "cell_type": "code",
   "execution_count": null,
   "metadata": {},
   "outputs": [],
   "source": [
    "plt.figure(figsize=(10,6))\n",
    "plt.step(df.wl, df.data, label='data')\n",
    "plt.plot(df.wl, df.model_comp95, label='Composite')\n",
    "plt.plot(df.wl, df.model_comp05, label='Composite')\n",
    "#plt.plot(df.wl, df.model_comp05, label='Composite $-2\\sigma$')\n",
    "#plt.plot(df.wl, df.model_comp95, label='Composite $+2\\sigma$')\n",
    "#plt.plot(df.wl, noised, label='Noised up')\n",
    "plt.plot(df.wl, df.model_cool95, label='Starspot')\n",
    "plt.plot(df.wl, df.model_cool05, label='Starspot')\n",
    "#plt.plot(df.wl, df.model_hot50, label='Ambient')\n",
    "plt.legend(loc='best')"
   ]
  },
  {
   "cell_type": "markdown",
   "metadata": {},
   "source": [
    "The end."
   ]
  }
 ],
 "metadata": {
  "kernelspec": {
   "display_name": "Python 3",
   "language": "python",
   "name": "python3"
  },
  "language_info": {
   "codemirror_mode": {
    "name": "ipython",
    "version": 3
   },
   "file_extension": ".py",
   "mimetype": "text/x-python",
   "name": "python",
   "nbconvert_exporter": "python",
   "pygments_lexer": "ipython3",
   "version": "3.6.2"
  }
 },
 "nbformat": 4,
 "nbformat_minor": 2
}

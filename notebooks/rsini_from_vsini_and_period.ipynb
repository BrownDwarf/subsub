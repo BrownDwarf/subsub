{
 "cells": [
  {
   "cell_type": "markdown",
   "id": "fuzzy-sampling",
   "metadata": {},
   "source": [
    "# Computing $R \\sin{i}$ from $v \\sin{i}$ and Period\n",
    "\n",
    "For the subsub project"
   ]
  },
  {
   "cell_type": "code",
   "execution_count": 1,
   "id": "arbitrary-customer",
   "metadata": {},
   "outputs": [],
   "source": [
    "import numpy as np\n",
    "import matplotlib.pyplot as plt\n",
    "%matplotlib inline\n",
    "%config InlineBackend.figure_format='retina'"
   ]
  },
  {
   "cell_type": "markdown",
   "id": "competitive-insulin",
   "metadata": {},
   "source": [
    "$$ v \\sin{i} = \\frac{2\\pi R_{\\star}}{P_{\\mathrm{rot}}} \\sin{i} $$\n",
    "$$ R_{\\star} \\sin{i} = \\frac{v \\sin{i} \\cdot P_{\\mathrm{rot}}}{2 \\pi}$$"
   ]
  },
  {
   "cell_type": "code",
   "execution_count": 2,
   "id": "organized-schedule",
   "metadata": {},
   "outputs": [],
   "source": [
    "import astropy.units as u"
   ]
  },
  {
   "cell_type": "code",
   "execution_count": 3,
   "id": "innocent-bermuda",
   "metadata": {},
   "outputs": [
    {
     "data": {
      "text/latex": [
       "$10 \\; \\mathrm{\\frac{km}{s}}$"
      ],
      "text/plain": [
       "<Quantity 10. km / s>"
      ]
     },
     "execution_count": 3,
     "metadata": {},
     "output_type": "execute_result"
    }
   ],
   "source": [
    "vsini = 10.0 * u.km/u.s # +/- 1.0\n",
    "vsini_fractional_unc = (1.0*u.km/u.s)/vsini\n",
    "vsini"
   ]
  },
  {
   "cell_type": "code",
   "execution_count": 4,
   "id": "peaceful-space",
   "metadata": {},
   "outputs": [
    {
     "name": "stdout",
     "output_type": "stream",
     "text": [
      "10.0 %\n"
     ]
    }
   ],
   "source": [
    "print(vsini_fractional_unc.to(u.percent))"
   ]
  },
  {
   "cell_type": "code",
   "execution_count": 5,
   "id": "crude-butler",
   "metadata": {},
   "outputs": [
    {
     "data": {
      "text/latex": [
       "$23.5 \\; \\mathrm{d}$"
      ],
      "text/plain": [
       "<Quantity 23.5 d>"
      ]
     },
     "execution_count": 5,
     "metadata": {},
     "output_type": "execute_result"
    }
   ],
   "source": [
    "P_rot = 23.5 * u.day # +/- 0.1\n",
    "P_rot_fractional_unc = (0.1*u.day) / P_rot\n",
    "P_rot"
   ]
  },
  {
   "cell_type": "code",
   "execution_count": 6,
   "id": "latter-wrestling",
   "metadata": {},
   "outputs": [],
   "source": [
    "R_sini = vsini * P_rot / (2.0 * np.pi)"
   ]
  },
  {
   "cell_type": "code",
   "execution_count": 7,
   "id": "honey-advertising",
   "metadata": {},
   "outputs": [
    {
     "data": {
      "text/latex": [
       "$4.644936 \\; \\mathrm{R_{\\odot}}$"
      ],
      "text/plain": [
       "<Quantity 4.64493598 solRad>"
      ]
     },
     "execution_count": 7,
     "metadata": {},
     "output_type": "execute_result"
    }
   ],
   "source": [
    "R_sini.to(u.Rsun)"
   ]
  },
  {
   "cell_type": "markdown",
   "id": "processed-tracker",
   "metadata": {},
   "source": [
    "What is the propagated uncertainty?"
   ]
  },
  {
   "cell_type": "code",
   "execution_count": 8,
   "id": "matched-spending",
   "metadata": {},
   "outputs": [
    {
     "data": {
      "text/latex": [
       "$10.00905 \\; \\mathrm{\\%}$"
      ],
      "text/plain": [
       "<Quantity 10.00904978 %>"
      ]
     },
     "execution_count": 8,
     "metadata": {},
     "output_type": "execute_result"
    }
   ],
   "source": [
    "net_unc = np.hypot(vsini_fractional_unc, P_rot_fractional_unc)\n",
    "net_unc.to(u.percent)"
   ]
  },
  {
   "cell_type": "markdown",
   "id": "drawn-denver",
   "metadata": {},
   "source": [
    "The uncertainty in the $v\\sin{i}$ dominates the net uncertainty, our formal statistical uncertainty in the rotation period is negligible in comparison."
   ]
  },
  {
   "cell_type": "code",
   "execution_count": 9,
   "id": "smart-maryland",
   "metadata": {},
   "outputs": [
    {
     "data": {
      "text/latex": [
       "$0.46491395 \\; \\mathrm{R_{\\odot}}$"
      ],
      "text/plain": [
       "<Quantity 0.46491395 solRad>"
      ]
     },
     "execution_count": 9,
     "metadata": {},
     "output_type": "execute_result"
    }
   ],
   "source": [
    "R_sini.to(u.Rsun) * net_unc"
   ]
  },
  {
   "cell_type": "markdown",
   "id": "dynamic-relations",
   "metadata": {},
   "source": [
    "So we obtain: $R_{\\star} \\sin{i} = 4.6 \\pm 0.5$"
   ]
  },
  {
   "cell_type": "code",
   "execution_count": 10,
   "id": "cheap-argentina",
   "metadata": {},
   "outputs": [],
   "source": [
    "inc = np.arange(1, 90.1, 1)"
   ]
  },
  {
   "cell_type": "code",
   "execution_count": 11,
   "id": "split-forwarding",
   "metadata": {},
   "outputs": [],
   "source": [
    "sini = np.sin(np.radians(inc))"
   ]
  },
  {
   "cell_type": "code",
   "execution_count": 12,
   "id": "activated-pontiac",
   "metadata": {},
   "outputs": [],
   "source": [
    "R_star = R_sini.to(u.Rsun) / sini"
   ]
  },
  {
   "cell_type": "code",
   "execution_count": 13,
   "id": "tamil-chorus",
   "metadata": {},
   "outputs": [],
   "source": [
    "import seaborn as sns"
   ]
  },
  {
   "cell_type": "code",
   "execution_count": 14,
   "id": "dense-equilibrium",
   "metadata": {},
   "outputs": [],
   "source": [
    "sns.set_context('paper', font_scale=1.65)"
   ]
  },
  {
   "cell_type": "code",
   "execution_count": 15,
   "id": "configured-static",
   "metadata": {},
   "outputs": [],
   "source": [
    "upper_bound = R_star+R_star*0.1\n",
    "lower_bound = R_star-R_star*0.1"
   ]
  },
  {
   "cell_type": "code",
   "execution_count": 16,
   "id": "manual-soundtrack",
   "metadata": {},
   "outputs": [],
   "source": [
    "plt.rcParams['figure.facecolor'] = 'white'"
   ]
  },
  {
   "cell_type": "code",
   "execution_count": 17,
   "id": "applied-festival",
   "metadata": {},
   "outputs": [
    {
     "data": {
      "image/png": "[encoded data removed]",
      "text/plain": [
       "<Figure size 432x288 with 1 Axes>"
      ]
     },
     "metadata": {
      "image/png": {
       "height": 281,
       "width": 400
      }
     },
     "output_type": "display_data"
    }
   ],
   "source": [
    "plt.plot(inc, upper_bound, zorder=10, color='#2980b9')\n",
    "plt.plot(inc, lower_bound, zorder=10, color='#2980b9')\n",
    "plt.fill_between(inc, upper_bound, lower_bound, alpha=0.5,\n",
    "                 label='Kinematic constraint')\n",
    "plt.ylim(0, 10)\n",
    "plt.axhline(2.8, color='#e67e22')\n",
    "plt.axhline(3.4, color='#e67e22')\n",
    "plt.fill_between([0, 90], 2.8, 3.4, color='#f39c12', alpha=0.5,\n",
    "                label='SED constraint')\n",
    "plt.xlim(0, 90)\n",
    "plt.xlabel('inclination angle, $i$ ($^\\circ$)');\n",
    "plt.ylabel('$R_\\star \\;(R_{\\odot})$', fontsize=20)\n",
    "plt.legend(fontsize=14)\n",
    "plt.savefig('R_sini_demo.png', bbox_inches='tight', dpi=300)"
   ]
  },
  {
   "cell_type": "markdown",
   "id": "activated-least",
   "metadata": {},
   "source": [
    "Compare the uncertainties between the two systems:"
   ]
  },
  {
   "cell_type": "code",
   "execution_count": 18,
   "id": "talented-genetics",
   "metadata": {},
   "outputs": [],
   "source": [
    "net_unc_two_systems = np.hypot(0.5, 0.3) # R_sun"
   ]
  },
  {
   "cell_type": "code",
   "execution_count": 19,
   "id": "important-bermuda",
   "metadata": {},
   "outputs": [],
   "source": [
    "discrepancy = 1.5 # R_sun"
   ]
  },
  {
   "cell_type": "markdown",
   "id": "touched-frost",
   "metadata": {},
   "source": [
    "How many sigma is that?"
   ]
  },
  {
   "cell_type": "code",
   "execution_count": 20,
   "id": "artificial-weather",
   "metadata": {},
   "outputs": [
    {
     "data": {
      "text/plain": [
       "2.6"
      ]
     },
     "execution_count": 20,
     "metadata": {},
     "output_type": "execute_result"
    }
   ],
   "source": [
    "np.round(discrepancy / net_unc_two_systems, decimals = 1)"
   ]
  }
 ],
 "metadata": {
  "kernelspec": {
   "display_name": "Python 3",
   "language": "python",
   "name": "python3"
  },
  "language_info": {
   "codemirror_mode": {
    "name": "ipython",
    "version": 3
   },
   "file_extension": ".py",
   "mimetype": "text/x-python",
   "name": "python",
   "nbconvert_exporter": "python",
   "pygments_lexer": "ipython3",
   "version": "3.7.10"
  }
 },
 "nbformat": 4,
 "nbformat_minor": 5
}

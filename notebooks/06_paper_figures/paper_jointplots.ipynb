{
 "cells": [
  {
   "cell_type": "markdown",
   "metadata": {},
   "source": [
    "## Making paper-ready joint plots\n",
    "\n",
    "Oct 30, 2018  \n",
    "N. Gosnell  \n",
    "\n",
    "\n",
    "Apparently, it's very difficult to put some seaborn plots into subplots without some serious hacking: https://stackoverflow.com/questions/35042255/how-to-plot-multiple-seaborn-jointplot-in-subplot  \n",
    "\n",
    "We could also create 9 separate plots that are combined into a 3x3 figure in LaTeX. Let's try that route for now. But I'm including the link above in case we decide we need to make the 3x3 jointplots ourselves. \n",
    "\n",
    "\n",
    "Updated: Dec 16, 2020  \n",
    "I'm making new plots with the same axis limits and better sized axis labels"
   ]
  },
  {
   "cell_type": "code",
   "execution_count": 1,
   "metadata": {},
   "outputs": [],
   "source": [
    "import warnings\n",
    "warnings.simplefilter(action='ignore', category=FutureWarning)\n",
    "\n",
    "import numpy as np\n",
    "import matplotlib.pyplot as plt\n",
    "from matplotlib.ticker import MaxNLocator\n",
    "import seaborn as sns\n",
    "%config InlineBackend.figure_format = 'retina'\n",
    "%matplotlib inline\n",
    "#sns.set_context('paper', font_scale=2.0)"
   ]
  },
  {
   "cell_type": "code",
   "execution_count": 2,
   "metadata": {},
   "outputs": [],
   "source": [
    "def setupkde(order,run,burn):\n",
    "    ws = np.load('../sf/m'+str(order)+'/output/mix_emcee/run0'+str(run)+'/emcee_chain.npy')\n",
    "    burned = ws[:, burn:,:]\n",
    "    xs, ys, zs = burned.shape\n",
    "    fc = burned.reshape(xs*ys, zs)\n",
    "    nx, ny = fc.shape\n",
    "    f_omega = 10**fc[:, 7] / (10**fc[:, 5] + 10**fc[:,7])\n",
    "    burnedT2 = ws[:, burn:, 6] \n",
    "    Txs, Tys = burnedT2.shape\n",
    "    T2 = burnedT2.reshape(Txs*Tys)\n",
    "    return f_omega, T2"
   ]
  },
  {
   "cell_type": "code",
   "execution_count": 3,
   "metadata": {},
   "outputs": [],
   "source": [
    "all_avail = [106, 107, 109, 110, 113, 114, 116, 118, 119]\n",
    "no_plots = [101]\n",
    "ms_forward = np.array(list(set(all_avail) - set(no_plots)), dtype=np.int)\n",
    "ms = ms_forward[::-1]"
   ]
  },
  {
   "cell_type": "code",
   "execution_count": null,
   "metadata": {
    "scrolled": false
   },
   "outputs": [],
   "source": [
    "ii = -1\n",
    "\n",
    "sns.set_context(\"talk\")\n",
    "\n",
    "for i in range(len(ms)):\n",
    "    ii += 1\n",
    "    print(ii)\n",
    "    m = ms[ii]\n",
    "    \n",
    "    try:\n",
    "        ws = np.load(\"../../sf/m{:03d}/output/mix_emcee/run02/emcee_chain.npy\".format(m))\n",
    "    except:\n",
    "        ws = np.load(\"../../sf/m{:03d}/output/mix_emcee/run01/emcee_chain.npy\".format(m))\n",
    "    #Need to select the number to include for plotting:\n",
    "    samplesize = 1000\n",
    "    thin = 10\n",
    "    burned = ws[:, -1*samplesize:-1:thin,:]\n",
    "    xs, ys, zs = burned.shape\n",
    "    fc = burned.reshape(xs*ys, zs)\n",
    "    f_omega = 10**fc[:, 7]/(10**fc[:, 7]+10**fc[:, 5])\n",
    "    burnedT2 = ws[:, -1*samplesize:-1:thin, 6] \n",
    "    Txs, Tys = burnedT2.shape\n",
    "    T2 = burnedT2.reshape(Txs*Tys)\n",
    "    \n",
    "    p = sns.jointplot(f_omega, T2, kind='kde', color=\"#D26A63\", fill=\"True\")\n",
    "    p.ax_marg_x.set_xlim(-0.05, 0.55)\n",
    "    p.ax_marg_y.set_ylim(2900, 4600)\n",
    "    p.set_axis_labels(\"Filling factor\", \"Spot temperature\")\n",
    "    p.ax_joint.text(0.45, 3100, \"m = {}\".format(m), fontsize=16)\n",
    "    plt.savefig('../../document/figures/H_band_Tspot_fillingfactor_m{}_new.pdf'.format(m), bbox_inches='tight', dpi=300)\n",
    "    "
   ]
  },
  {
   "cell_type": "markdown",
   "metadata": {},
   "source": [
    "We also need the median values for spot temp and filling factor from each plot to include numbers in the paper..."
   ]
  },
  {
   "cell_type": "code",
   "execution_count": 33,
   "metadata": {},
   "outputs": [],
   "source": [
    "ii = -1\n",
    "\n",
    "fill = np.empty(0)\n",
    "temp2 = np.empty(0)\n",
    "temp1 = np.empty(0)\n",
    "\n",
    "for i in range(len(ms)):\n",
    "    ii += 1\n",
    "    #print(ii)\n",
    "    m = ms[ii]\n",
    "    \n",
    "    try:\n",
    "        ws = np.load(\"../sf/m{:03d}/output/mix_emcee/run02/emcee_chain.npy\".format(m))\n",
    "    except:\n",
    "        ws = np.load(\"../sf/m{:03d}/output/mix_emcee/run01/emcee_chain.npy\".format(m))\n",
    "    burned = ws[:, -200:,:]\n",
    "    #I'm only keeping the last 200 samples because that's what Gully did for the spectra plots\n",
    "    xs, ys, zs = burned.shape\n",
    "    fc = burned.reshape(xs*ys, zs)\n",
    "    f_omega = 10**fc[:, 7]/(10**fc[:, 7]+10**fc[:, 5])\n",
    "    burnedT2 = ws[:, -200:, 6] \n",
    "    Txs, Tys = burnedT2.shape\n",
    "    T2 = burnedT2.reshape(Txs*Tys)\n",
    "    burnedT1 = ws[:, -200:, 0] \n",
    "    Txs1, Tys1 = burnedT1.shape\n",
    "    T1 = burnedT1.reshape(Txs1*Tys1)\n",
    "    fillingmedian = np.percentile(f_omega, 50)\n",
    "    fill = np.append(fill, fillingmedian)\n",
    "    temp2median = np.percentile(T2, 50)\n",
    "    temp2 = np.append(temp2, temp2median)\n",
    "    temp1median = np.percentile(T1, 50)\n",
    "    temp1 = np.append(temp1, temp1median)"
   ]
  },
  {
   "cell_type": "code",
   "execution_count": 50,
   "metadata": {},
   "outputs": [
    {
     "name": "stdout",
     "output_type": "stream",
     "text": [
      "4069.9941259237144 218.0321653474053\n",
      "5179.649139248005 25.998785113550905\n",
      "4166.696239197333\n",
      "3451.2508372748316\n",
      "5230.64072819664\n",
      "5144.291632599967\n",
      "0.4210255093347403\n",
      "0.19849459814870565\n",
      "[0.28892545 0.3295918  0.1984946  0.30929663 0.37236377 0.31851291\n",
      " 0.35036877 0.42102551 0.2084938 ]\n"
     ]
    }
   ],
   "source": [
    "medt2 = np.median(temp2)\n",
    "medt2err = np.std(temp2)\n",
    "medt1 = np.median(temp1)\n",
    "medt1err = np.std(temp1)\n",
    "print(medt2, medt2err)\n",
    "print(medt1, medt1err)\n",
    "print(np.max(temp2))\n",
    "print(np.min(temp2))\n",
    "print(np.max(temp1))\n",
    "print(np.min(temp1))\n",
    "print(np.max(fill))\n",
    "print(np.min(fill))\n",
    "print(fill)"
   ]
  },
  {
   "cell_type": "code",
   "execution_count": 36,
   "metadata": {},
   "outputs": [
    {
     "name": "stdout",
     "output_type": "stream",
     "text": [
      "0.3185129126208797 0.06788706720058249\n"
     ]
    }
   ],
   "source": [
    "medfill = np.median(fill)\n",
    "medfillerr = np.std(fill)\n",
    "print(medfill, medfillerr)"
   ]
  },
  {
   "cell_type": "markdown",
   "metadata": {},
   "source": [
    "How does this impact the effective temperature?"
   ]
  },
  {
   "cell_type": "code",
   "execution_count": 42,
   "metadata": {},
   "outputs": [
    {
     "name": "stdout",
     "output_type": "stream",
     "text": [
      "4903.058387849473\n"
     ]
    }
   ],
   "source": [
    "teff = (medfill*medt2**4.0 + (1 - medfill)*medt1**4.0)**0.25\n",
    "print(teff)"
   ]
  },
  {
   "cell_type": "markdown",
   "metadata": {},
   "source": [
    "## The End\n",
    "(ta da!)"
   ]
  }
 ],
 "metadata": {
  "kernelspec": {
   "display_name": "Python 3",
   "language": "python",
   "name": "python3"
  },
  "language_info": {
   "codemirror_mode": {
    "name": "ipython",
    "version": 3
   },
   "file_extension": ".py",
   "mimetype": "text/x-python",
   "name": "python",
   "nbconvert_exporter": "python",
   "pygments_lexer": "ipython3",
   "version": "3.6.10"
  }
 },
 "nbformat": 4,
 "nbformat_minor": 2
}

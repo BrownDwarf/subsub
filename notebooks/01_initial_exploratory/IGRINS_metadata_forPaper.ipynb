{
 "cells": [
  {
   "cell_type": "markdown",
   "metadata": {},
   "source": [
    "Fill in the IGRINS metadata"
   ]
  },
  {
   "cell_type": "code",
   "execution_count": 1,
   "metadata": {},
   "outputs": [],
   "source": [
    "from astropy.io import fits"
   ]
  },
  {
   "cell_type": "code",
   "execution_count": 3,
   "metadata": {},
   "outputs": [
    {
     "name": "stdout",
     "output_type": "stream",
     "text": [
      "\u001b[1m\u001b[31mASASSN\u001b[m\u001b[m                           SDCH_20150425_0064.sn.fits\r\n",
      "IOMC_0814000020.fits             SDCH_20150425_0064.spec_a0v.fits\r\n",
      "S1063_o110.fits                  SDCH_20150425_0064.variance.fits\r\n",
      "S1063_o113.fits                  \u001b[35mSDCH_20150425_0072.variance.fits\u001b[m\u001b[m\r\n",
      "S1063_o115.fits                  aavsodata_5c5df877134a9.txt\r\n"
     ]
    }
   ],
   "source": [
    "! ls ../data/raw/SDCH_20150425_0064"
   ]
  },
  {
   "cell_type": "code",
   "execution_count": 33,
   "metadata": {},
   "outputs": [
    {
     "name": "stdout",
     "output_type": "stream",
     "text": [
      "\u001b[1m\u001b[31mASASSN\u001b[m\u001b[m                           SDCH_20150425_0064.sn.fits\r\n",
      "IOMC_0814000020.fits             SDCH_20150425_0064.spec_a0v.fits\r\n",
      "S1063_o110.fits                  SDCH_20150425_0064.variance.fits\r\n",
      "S1063_o113.fits                  \u001b[35mSDCH_20150425_0072.variance.fits\u001b[m\u001b[m\r\n",
      "S1063_o115.fits                  aavsodata_5c5df877134a9.txt\r\n"
     ]
    }
   ],
   "source": [
    "! ls ../data/raw"
   ]
  },
  {
   "cell_type": "code",
   "execution_count": 24,
   "metadata": {},
   "outputs": [],
   "source": [
    "hdu_list = fits.open('../data/raw/SDCH_20150425_0064.spec_a0v.fits')"
   ]
  },
  {
   "cell_type": "code",
   "execution_count": 25,
   "metadata": {},
   "outputs": [
    {
     "name": "stdout",
     "output_type": "stream",
     "text": [
      "Filename: ../data/raw/SDCH_20150425_0064.spec_a0v.fits\n",
      "No.    Name      Ver    Type      Cards   Dimensions   Format\n",
      "  0  SPEC_DIVIDE_A0V    1 PrimaryHDU     183   (2048, 28)   float64   \n",
      "  1  WAVELENGTH    1 ImageHDU       184   (2048, 28)   float64   \n",
      "  2  TGT_SPEC      1 ImageHDU       184   (2048, 28)   float32   \n",
      "  3  A0V_SPEC      1 ImageHDU       184   (2048, 28)   float32   \n",
      "  4  VEGA_SPEC     1 ImageHDU       184   (2048, 28)   float64   \n"
     ]
    }
   ],
   "source": [
    "hdu_list.info()"
   ]
  },
  {
   "cell_type": "code",
   "execution_count": 34,
   "metadata": {},
   "outputs": [],
   "source": [
    "hdu0 = hdu_list[0]"
   ]
  },
  {
   "cell_type": "code",
   "execution_count": 35,
   "metadata": {},
   "outputs": [
    {
     "data": {
      "text/plain": [
       "array([[nan, nan, nan, ..., nan, nan, nan],\n",
       "       [nan, nan, nan, ..., nan, nan, nan],\n",
       "       [nan, nan, nan, ..., nan, nan, nan],\n",
       "       ...,\n",
       "       [nan, nan, nan, ..., nan, nan, nan],\n",
       "       [nan, nan, nan, ..., nan, nan, nan],\n",
       "       [nan, nan, nan, ..., nan, nan, nan]])"
      ]
     },
     "execution_count": 35,
     "metadata": {},
     "output_type": "execute_result"
    }
   ],
   "source": [
    "hdu0.data"
   ]
  },
  {
   "cell_type": "code",
   "execution_count": 36,
   "metadata": {
    "scrolled": false
   },
   "outputs": [],
   "source": [
    "#hdu0.header"
   ]
  },
  {
   "cell_type": "markdown",
   "metadata": {},
   "source": [
    "# Cluster membership from Gao et al 2018"
   ]
  },
  {
   "cell_type": "code",
   "execution_count": 37,
   "metadata": {},
   "outputs": [
    {
     "name": "stdout",
     "output_type": "stream",
     "text": [
      "--2019-03-25 17:45:41--  https://iopscience.iop.org/0004-637X/869/1/9/suppdata/apjaae8ddt3_mrt.txt\n",
      "Resolving iopscience.iop.org (iopscience.iop.org)... 52.16.160.11\n",
      "Connecting to iopscience.iop.org (iopscience.iop.org)|52.16.160.11|:443... connected.\n",
      "HTTP request sent, awaiting response... \n",
      "  HTTP/1.1 200 OK\n",
      "  Server: Apache-Coyote/1.1\n",
      "  iop_associated_identity_ids: C-US,3_482,AIP_10024296,H2,S184,S-7,H1,AIP_11056306,guest,AIP_N_630669,ATOM-6N5V6Q,\n",
      "  X-TM-Name: ip-10-40-2-14\n",
      "  iop_session_id: 155504fe-875b-427e-998f-38d50e81072f\n",
      "  iop_page_type: MULTIMEDIA\n",
      "  Content-Type: text/plain;charset=UTF-8\n",
      "  X-Logged-In: \n",
      "  Date: Tue, 26 Mar 2019 00:45:42 GMT\n",
      "  iop_session_map: iop_session_id=155504fe-875b-427e-998f-38d50e81072f&identity_ids=C-US%2C3_482%2CAIP_10024296%2CH2%2CS184%2CS-7%2CH1%2CAIP_11056306%2Cguest%2CAIP_N_630669%2CATOM-6N5V6Q%2C&ics_session_id=20190326-254bd19c94323ee49cfdddfe3283b3d2&request_id=e955c04f-89c5-4a8e-8f26-7d85139f5223&identity_id_primary=3_482&\n",
      "  X-Cache-Enabled: 0\n",
      "  Keep-Alive: timeout=20, max=50\n",
      "  Pragma: no-cache\n",
      "  Connection: Keep-Alive\n",
      "  Set-Cookie: JSESSIONID=A6B48B65C65E8BFDF72CC3141550F9F2.c1.iopscience.cld.iop.org; Path=/; HttpOnly\n",
      "  Set-Cookie: IOP_session_live=%2F%2F1553561142674%7C155504fe-875b-427e-998f-38d50e81072f%7C20190326-254bd19c94323ee49cfdddfe3283b3d2%7C%7C%7C%7C%7C%7C%7C%7C%7C3_482%2F31d3a411c5e5bc06eb81c8ca6747d2c0; Path=/; Domain=.iop.org\n",
      "  Set-Cookie: JSESSIONID=A6B48B65C65E8BFDF72CC3141550F9F2.c1.iopscience.cld.iop.org; Max-Age=-1; Path=; Secure; HttpOnly\n",
      "  Content-Transfer-Encoding: binary\n",
      "  iop_primary_institution_identity_id: 3_482\n",
      "  X-Requested-Cache-Control: \n",
      "  Content-Length: 96126\n",
      "Syntax error in Set-Cookie: JSESSIONID=A6B48B65C65E8BFDF72CC3141550F9F2.c1.iopscience.cld.iop.org; Max-Age=-1; Path=; Secure; HttpOnly at position 82.\n",
      "Length: 96126 (94K) [text/plain]\n",
      "Saving to: ‘apjaae8ddt3_mrt.txt’\n",
      "\n",
      "apjaae8ddt3_mrt.txt 100%[===================>]  93.87K   188KB/s    in 0.5s    \n",
      "\n",
      "2019-03-25 17:45:43 (188 KB/s) - ‘apjaae8ddt3_mrt.txt’ saved [96126/96126]\n",
      "\n"
     ]
    }
   ],
   "source": [
    "! wget https://iopscience.iop.org/0004-637X/869/1/9/suppdata/apjaae8ddt3_mrt.txt"
   ]
  },
  {
   "cell_type": "code",
   "execution_count": 39,
   "metadata": {},
   "outputs": [],
   "source": [
    "! mkdir ../data/lit"
   ]
  },
  {
   "cell_type": "code",
   "execution_count": 40,
   "metadata": {},
   "outputs": [],
   "source": [
    "! mv apjaae8ddt3_mrt.txt ../data/lit/"
   ]
  },
  {
   "cell_type": "code",
   "execution_count": 42,
   "metadata": {},
   "outputs": [],
   "source": [
    "# %load /Users/obsidian/Desktop/defaults.py\n",
    "import pandas as pd\n",
    "import numpy as np\n",
    "import matplotlib.pyplot as plt\n",
    "%matplotlib inline\n",
    "%config InlineBackend.figure_format = 'retina'"
   ]
  },
  {
   "cell_type": "code",
   "execution_count": 47,
   "metadata": {},
   "outputs": [],
   "source": [
    "df = pd.read_csv('../data/lit/apjaae8ddt3_mrt.txt', names = ['src', 'ra', 'dec', 'prob'], delim_whitespace=True)"
   ]
  },
  {
   "cell_type": "code",
   "execution_count": 50,
   "metadata": {},
   "outputs": [],
   "source": [
    "mask = df.src == 604921030968952832"
   ]
  },
  {
   "cell_type": "code",
   "execution_count": 54,
   "metadata": {},
   "outputs": [
    {
     "data": {
      "text/plain": [
       "array([1.])"
      ]
     },
     "execution_count": 54,
     "metadata": {},
     "output_type": "execute_result"
    }
   ],
   "source": [
    "df[mask].prob.values"
   ]
  },
  {
   "cell_type": "code",
   "execution_count": 55,
   "metadata": {},
   "outputs": [],
   "source": [
    "! open ../data/lit/apjaae8ddt3_mrt.txt"
   ]
  },
  {
   "cell_type": "code",
   "execution_count": null,
   "metadata": {},
   "outputs": [],
   "source": []
  }
 ],
 "metadata": {
  "kernelspec": {
   "display_name": "Python 3",
   "language": "python",
   "name": "python3"
  },
  "language_info": {
   "codemirror_mode": {
    "name": "ipython",
    "version": 3
   },
   "file_extension": ".py",
   "mimetype": "text/x-python",
   "name": "python",
   "nbconvert_exporter": "python",
   "pygments_lexer": "ipython3",
   "version": "3.6.8"
  }
 },
 "nbformat": 4,
 "nbformat_minor": 2
}
